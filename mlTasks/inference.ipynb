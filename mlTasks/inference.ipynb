{
 "cells": [
  {
   "cell_type": "markdown",
   "metadata": {},
   "source": [
    "# Machine Learning Model Inference\n",
    "\n",
    "This notebook allows you to perform inference using pre-trained machine learning models for Forecasting, Regression, and Classification tasks."
   ]
  },
  {
   "cell_type": "markdown",
   "metadata": {},
   "source": [
    "## 1. Import Libraries\n",
    "\n",
    "First, let's import the necessary libraries. You may need to install some of these if you don't have them already. You can do this by running `pip install <library_name>` in your terminal."
   ]
  },
  {
   "cell_type": "code",
   "execution_count": 1,
   "metadata": {},
   "outputs": [
    {
     "name": "stderr",
     "output_type": "stream",
     "text": [
      "Importing plotly failed. Interactive plots will not work.\n",
      "Importing plotly failed. Interactive plots will not work.\n"
     ]
    }
   ],
   "source": [
    "import ipywidgets as widgets\n",
    "from IPython.display import display\n",
    "\n",
    "import os\n",
    "import ray\n",
    "import math\n",
    "import dill\n",
    "import pickle\n",
    "import psutil\n",
    "import datetime\n",
    "import numpy as np\n",
    "import pandas as pd\n",
    "\n",
    "import xgboost as xgb\n",
    "import tensorflow as tf\n",
    "from neuralprophet import NeuralProphet\n",
    "from statsmodels.tsa.seasonal import STL\n",
    "from xgboost import XGBRegressor, XGBClassifier\n",
    "from sklearn.neighbors import LocalOutlierFactor\n",
    "from sklearn.ensemble import RandomForestRegressor\n",
    "from sklearn.svm import LinearSVC, OneClassSVM, SVR\n",
    "from statsmodels.tsa.arima.model import ARIMA, ARIMAResultsWrapper\n",
    "from sklearn.linear_model import LogisticRegression, LinearRegression\n",
    "from sklearn.metrics import mean_squared_error, accuracy_score, r2_score\n",
    "from catboost import CatBoostRegressor, CatBoostClassifier, Pool, EFstrType\n",
    "from sklearn.preprocessing import OrdinalEncoder, LabelEncoder, MinMaxScaler\n",
    "from statsmodels.tsa.statespace.sarimax import SARIMAX, SARIMAXResultsWrapper\n",
    "\n",
    "import warnings\n",
    "warnings.filterwarnings('ignore')"
   ]
  },
  {
   "cell_type": "markdown",
   "metadata": {},
   "source": [
    "## 2. User Inputs\n",
    "\n",
    "Please provide the necessary inputs below."
   ]
  },
  {
   "cell_type": "code",
   "execution_count": 2,
   "metadata": {},
   "outputs": [
    {
     "data": {
      "application/vnd.jupyter.widget-view+json": {
       "model_id": "9548b25d08ec45538b2771e66bc22d9c",
       "version_major": 2,
       "version_minor": 0
      },
      "text/plain": [
       "Dropdown(description='Select ML Task:', options=('Regression', 'Classification', 'Forecasting'), style=Descrip…"
      ]
     },
     "metadata": {},
     "output_type": "display_data"
    },
    {
     "data": {
      "application/vnd.jupyter.widget-view+json": {
       "model_id": "315e78b73f1c42df990d3ef644791e48",
       "version_major": 2,
       "version_minor": 0
      },
      "text/plain": [
       "FileUpload(value=(), accept='.pkl,.dill', description='Model Checkpoint')"
      ]
     },
     "metadata": {},
     "output_type": "display_data"
    },
    {
     "data": {
      "application/vnd.jupyter.widget-view+json": {
       "model_id": "0e7e67f482ad43dfaf5c1d1f45737820",
       "version_major": 2,
       "version_minor": 0
      },
      "text/plain": [
       "FileUpload(value=(), accept='.csv', description='Inference CSV Data')"
      ]
     },
     "metadata": {},
     "output_type": "display_data"
    },
    {
     "data": {
      "application/vnd.jupyter.widget-view+json": {
       "model_id": "2e0d3885aeff4509813dbf98350a1f1e",
       "version_major": 2,
       "version_minor": 0
      },
      "text/plain": [
       "VBox(children=(IntText(value=0, description='Forecast Next N Periods:', style=DescriptionStyle(description_wid…"
      ]
     },
     "metadata": {},
     "output_type": "display_data"
    }
   ],
   "source": [
    "style = {'description_width': 'initial'}\n",
    "\n",
    "ml_task = widgets.Dropdown(\n",
    "    options=['Regression', 'Classification', 'Forecasting'],\n",
    "    value='Regression',\n",
    "    description='Select ML Task:',\n",
    "    disabled=False,\n",
    "    style=style\n",
    ")\n",
    "\n",
    "model_path = widgets.FileUpload(\n",
    "    accept='.pkl,.dill',\n",
    "    multiple=False,\n",
    "    description='Model Checkpoint'\n",
    ")\n",
    "\n",
    "input_data_path = widgets.FileUpload(\n",
    "    accept='.csv',\n",
    "    multiple=False,\n",
    "    description='Inference CSV Data'\n",
    ")\n",
    "\n",
    "forecast_periods = widgets.IntText(\n",
    "    value=0,\n",
    "    description='Forecast Next N Periods:',\n",
    "    disabled=False,\n",
    "    style=style\n",
    ")\n",
    "\n",
    "start_date = widgets.Text(\n",
    "    value='',\n",
    "    placeholder='YYYY-MM-DD',\n",
    "    description='Start Date:',\n",
    "    disabled=False,\n",
    "    style=style\n",
    ")\n",
    "\n",
    "end_date = widgets.Text(\n",
    "    value='',\n",
    "    placeholder='YYYY-MM-DD',\n",
    "    description='End Date:',\n",
    "    disabled=False,\n",
    "    style=style\n",
    ")\n",
    "\n",
    "or_separator = widgets.HTML(\n",
    "    value=\"\"\"\n",
    "    <div style='display: flex; align-items: center; margin: 10px 0;'>\n",
    "        <hr style='flex-grow: 1; border-top: 1px solid #bbb;' />\n",
    "        <span style='padding: 0 15px; font-weight: bold; color: #555;'>OR</span>\n",
    "        <hr style='flex-grow: 1; border-top: 1px solid #bbb;' />\n",
    "    </div>\n",
    "    \"\"\",\n",
    "    layout=widgets.Layout(width='100%')\n",
    ")\n",
    "\n",
    "forecasting_options = widgets.VBox([\n",
    "    forecast_periods,\n",
    "    or_separator,\n",
    "    widgets.HBox([start_date, end_date])\n",
    "])\n",
    "\n",
    "def on_ml_task_change(change):\n",
    "    if change['new'] == 'Forecasting':\n",
    "        input_data_path.layout.display = 'none'\n",
    "        forecasting_options.layout.display = 'flex'\n",
    "    else:\n",
    "        input_data_path.layout.display = 'flex'\n",
    "        forecasting_options.layout.display = 'none'\n",
    "\n",
    "ml_task.observe(on_ml_task_change, names='value')\n",
    "\n",
    "display(ml_task, model_path, input_data_path, forecasting_options)\n",
    "\n",
    "on_ml_task_change({'new': ml_task.value})"
   ]
  },
  {
   "cell_type": "markdown",
   "metadata": {},
   "source": [
    "## 3. Perform Inference\n",
    "\n",
    "Run the cell below to perform inference based on your selections."
   ]
  },
  {
   "cell_type": "code",
   "execution_count": 3,
   "metadata": {},
   "outputs": [
    {
     "data": {
      "application/vnd.jupyter.widget-view+json": {
       "model_id": "e02f304b199642059348b63382f563af",
       "version_major": 2,
       "version_minor": 0
      },
      "text/plain": [
       "Button(description='Perform Inference', style=ButtonStyle())"
      ]
     },
     "metadata": {},
     "output_type": "display_data"
    },
    {
     "data": {
      "application/vnd.jupyter.widget-view+json": {
       "model_id": "e579e68900124827b4879c73a9eb49e8",
       "version_major": 2,
       "version_minor": 0
      },
      "text/plain": [
       "Output()"
      ]
     },
     "metadata": {},
     "output_type": "display_data"
    }
   ],
   "source": [
    "def perform_inference():\n",
    "    if not model_path.value:\n",
    "        print(\"Please upload a model checkpoint.\")\n",
    "        return\n",
    "\n",
    "    model_file_info = list(model_path.value.values())[0]\n",
    "    model_content = model_file_info['content']\n",
    "    \n",
    "    try:\n",
    "        try:\n",
    "            model_data = pickle.loads(model_content)\n",
    "        except (pickle.UnpicklingError, dill.UnpicklingError):\n",
    "            model_data = dill.loads(model_content)\n",
    "    except Exception as e:\n",
    "        print(f\"Error loading model: {e}\")\n",
    "        return\n",
    "\n",
    "    task = ml_task.value\n",
    "\n",
    "    if task == 'Forecasting':\n",
    "        model = model_data['model']\n",
    "        test_end_date = model_data['testEndDate']\n",
    "        frequency = model_data['timeIntervalFrequency']\n",
    "\n",
    "        if start_date.value and end_date.value:\n",
    "            forecast_range = pd.date_range(start=start_date.value, end=end_date.value, freq=frequency)\n",
    "        else:\n",
    "            forecast_range = pd.date_range(start=test_end_date, periods=forecast_periods.value + 1, freq=frequency)[1:]\n",
    "\n",
    "        if 'neuralprophet' in str(type(model)):\n",
    "            future = pd.DataFrame({'ds': forecast_range})\n",
    "            forecast = model.predict(future)\n",
    "            predictions = forecast[['ds', 'yhat1']].set_index('ds')\n",
    "        if isinstance(model, (ARIMAResultsWrapper, SARIMAXResultsWrapper)):\n",
    "            predictions = model.forecast(steps=len(forecast_range))\n",
    "            predictions.index = forecast_range\n",
    "        else:\n",
    "            print(\"Unsupported forecasting model type.\")\n",
    "            return\n",
    "\n",
    "        print(\"Forecasted Values:\")\n",
    "        display(predictions)\n",
    "\n",
    "    elif task in ['Regression', 'Classification']:\n",
    "        if not input_data_path.value:\n",
    "            print(\"Please upload input CSV data.\")\n",
    "            return\n",
    "\n",
    "        input_file_info = list(input_data_path.value.values())[0]\n",
    "        input_content = input_file_info['content']\n",
    "        \n",
    "        try:\n",
    "            input_df = pd.read_csv(pd.io.common.BytesIO(input_content))\n",
    "        except Exception as e:\n",
    "            print(f\"Error reading CSV file: {e}\")\n",
    "            return\n",
    "        \n",
    "        model = model_data['model']\n",
    "        \n",
    "        if task == 'Regression':\n",
    "            scaler = model_data['scaler']\n",
    "            scaled_features = scaler.transform(input_df)\n",
    "            predictions = model.predict(scaled_features)\n",
    "            input_df['predictions'] = predictions\n",
    "        \n",
    "        elif task == 'Classification':\n",
    "            feature_scaler = model_data['featureScaler']\n",
    "            label_scaler = model_data['labelScaler']\n",
    "            scaled_features = feature_scaler.transform(input_df)\n",
    "            predictions_encoded = model.predict(scaled_features)\n",
    "            predictions = label_scaler.inverse_transform(predictions_encoded)\n",
    "            input_df['predictions'] = predictions\n",
    "\n",
    "        print(\"Predictions:\")\n",
    "        display(input_df)\n",
    "\n",
    "inference_button = widgets.Button(description=\"Perform Inference\")\n",
    "output = widgets.Output()\n",
    "\n",
    "def on_button_clicked(b):\n",
    "    with output:\n",
    "        output.clear_output()\n",
    "        perform_inference()\n",
    "\n",
    "inference_button.on_click(on_button_clicked)\n",
    "\n",
    "display(inference_button, output)"
   ]
  }
 ],
 "metadata": {
  "kernelspec": {
   "display_name": "Python 3",
   "language": "python",
   "name": "python3"
  },
  "language_info": {
   "codemirror_mode": {
    "name": "ipython",
    "version": 3
   },
   "file_extension": ".py",
   "mimetype": "text/x-python",
   "name": "python",
   "nbconvert_exporter": "python",
   "pygments_lexer": "ipython3",
   "version": "3.10.0"
  }
 },
 "nbformat": 4,
 "nbformat_minor": 4
}
